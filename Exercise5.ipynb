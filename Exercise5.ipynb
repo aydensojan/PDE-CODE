{
  "nbformat": 4,
  "nbformat_minor": 0,
  "metadata": {
    "colab": {
      "provenance": []
    },
    "kernelspec": {
      "name": "python3",
      "display_name": "Python 3"
    },
    "language_info": {
      "name": "python"
    }
  },
  "cells": [
    {
      "cell_type": "markdown",
      "source": [
        "#**The Laplace Transform and Frequency Response**\n",
        "\n",
        "The Laplace Transform is a powerful mathematical tool used extensively in circuit analysis, control systems, and signal processing. It transforms a function from the time domain, $f(t)$\n",
        ", into the frequency domain, $F(s)$\n",
        ".\n",
        "\n",
        "While this is useful for solving differential equations, its true power in engineering comes from analyzing the **frequency response**. By setting the complex variable $s = j\\omega$\n",
        " (where $j$\n",
        " is the imaginary unit and $\\omega$\n",
        " is angular frequency), we can see how a system or signal behaves at different frequencies. This is analyzed through two key plots: the **Magnitude Plot** and the **Phase Plot**.\n",
        "\n",
        "\n",
        "\n",
        "##**Aim**\n",
        "To compute the Laplace transform of given functions and, most importantly, to visualize and interpret their frequency response through magnitude and phase plots.\n",
        "\n",
        "##**Objectives**\n",
        "- To use Python’s SymPy library for symbolic Laplace transforms.\n",
        "- To understand how to obtain the frequency response function $F(j\\omega)$\n",
        " from the Laplace transform\n",
        ".\n",
        "- To generate and interpret magnitude and phase plots.\n",
        "- To connect these plots to physical concepts like amplification, attenuation, and time delay (phase shift).\n",
        "\n",
        "##**Algorithm**\n",
        "1. **Define Symbols** : Use `sp.symbols()` to declare symbolic variables t (time), s (Laplace variable), and w (frequency, $\\omega$\n",
        ").\n",
        "2. **Define the Function** : Specify the time-domain function $f(t)$\n",
        " as a symbolic expression.\n",
        "3. **Compute Laplace Transform** : Use `sp.laplace_transform()` to find the corresponding $F(s)$.\n",
        "\n",
        "4. **Derive Frequency Response** : Substitute $s = j\\omega$\n",
        " into the symbolic expression for $F(s)$\n",
        " to get the frequency response function $F(j\\omega)$\n",
        ".\n",
        "5. **Prepare for Plotting** : Convert the symbolic expressions for $f(t)$\n",
        " and $F(j\\omega)$\n",
        " into fast numerical functions using `sp.lambdify().`\n",
        "6. **Generate Data** :\n",
        "  * Create a numerical array of time points `t_values.`\n",
        "  * Create a logarithmic array of frequency points `w_values` using `np.logspace().`\n",
        "  * Calculate the complex values of $F(j\\omega)$\n",
        " for the frequency range.\n",
        "7. **Calculate Magnitude and Phase** :\n",
        "  * Magnitude: `np.abs(F_jw_values)`\n",
        "  * Phase: `np.angle(F_jw_values, deg=True)` (in degrees for easier interpretation)\n",
        "8. **Plot** : Create three subplots: the time-domain signal, the magnitude plot (log-log scale), and the phase plot (log-x scale). This set of frequency plots is known as a **Bode Plot**."
      ],
      "metadata": {
        "id": "LoY06w9bnwYY"
      }
    },
    {
      "cell_type": "markdown",
      "source": [
        "## **Laplace transform of basic functions using 'Sympy'**\n",
        "  \n",
        "  (i). $\\sin(at)$\n",
        "\n",
        "  (ii). $\\cos(at)$\n",
        "\n",
        "  (iii). $\\cosh(at)$.\n",
        "\n",
        "  (iv). $e^{-at}\\left(\\sin2t- \\cos t\\right)$\n",
        "\n"
      ],
      "metadata": {
        "id": "YP2TOMlUrUd9"
      }
    },
    {
      "cell_type": "markdown",
      "source": [
        ">*Step 1:* Importing Libraries"
      ],
      "metadata": {
        "id": "nxu12IHGuKM0"
      }
    },
    {
      "cell_type": "code",
      "execution_count": null,
      "metadata": {
        "id": "IrkWs9Jfl0RM"
      },
      "outputs": [],
      "source": [
        " ## Importing Libraries\n",
        "import sympy as sp\n",
        "from IPython.display import display, Math"
      ]
    },
    {
      "cell_type": "markdown",
      "source": [
        ">*Step 2:* Creating symbolic variables and define function"
      ],
      "metadata": {
        "id": "q1opNZjtuh2i"
      }
    },
    {
      "cell_type": "code",
      "source": [
        "# 1. Define symbols\n",
        "t, s, a, b = sp.symbols('t s a b', real=True, positive=True)\n",
        "\n",
        "# 2. Define the function\n",
        "f = sp.sin(a*t)"
      ],
      "metadata": {
        "id": "9dKUo4VbvDKb"
      },
      "execution_count": null,
      "outputs": []
    },
    {
      "cell_type": "markdown",
      "source": [
        ">*Step 3:* Evaluating the Laplace Transform"
      ],
      "metadata": {
        "id": "g8TwdUGhv1_r"
      }
    },
    {
      "cell_type": "code",
      "source": [
        "#3. Compute Laplace Transform\n",
        "F_s = sp.laplace_transform(f, t, s, nonconds=True)"
      ],
      "metadata": {
        "id": "sK82L2wLwXCS"
      },
      "execution_count": null,
      "outputs": []
    },
    {
      "cell_type": "markdown",
      "source": [
        ">*Step 4:* Display the output in symbolic mode"
      ],
      "metadata": {
        "id": "O97K3E0Zw3uZ"
      }
    },
    {
      "cell_type": "code",
      "source": [
        "#4. Print the symbolic results\n",
        "print (\"Given Function: \")\n",
        "display(Math('f(t)=' + sp.latex(f)))\n",
        "print (\"Laplace Transform: \")\n",
        "display(Math('\\\\bar{f}(s)=' + sp.latex(F_s)))"
      ],
      "metadata": {
        "colab": {
          "base_uri": "https://localhost:8080/",
          "height": 114
        },
        "id": "7yilDtI-xBCJ",
        "outputId": "b42c5a80-e3bc-4df5-9384-b7d3449011a1"
      },
      "execution_count": null,
      "outputs": [
        {
          "output_type": "stream",
          "name": "stdout",
          "text": [
            "Given Function: \n"
          ]
        },
        {
          "output_type": "display_data",
          "data": {
            "text/plain": [
              "<IPython.core.display.Math object>"
            ],
            "text/latex": "$\\displaystyle f(t)=\\sin{\\left(a t \\right)}$"
          },
          "metadata": {}
        },
        {
          "output_type": "stream",
          "name": "stdout",
          "text": [
            "Laplace Transform: \n"
          ]
        },
        {
          "output_type": "display_data",
          "data": {
            "text/plain": [
              "<IPython.core.display.Math object>"
            ],
            "text/latex": "$\\displaystyle \\bar{f}(s)=\\left( \\frac{a}{a^{2} + s^{2}}, \\  0, \\  \\text{True}\\right)$"
          },
          "metadata": {}
        }
      ]
    },
    {
      "cell_type": "markdown",
      "source": [
        ">Find $\\mathcal{L}(\\cos at)$\n"
      ],
      "metadata": {
        "id": "Oat3adfDyw1s"
      }
    },
    {
      "cell_type": "code",
      "source": [
        "\n",
        "# 1. Define symbols\n",
        "t, s, a, b = sp.symbols('t s a b', real=True, positive=True)\n",
        "\n",
        "# 2. Define the function\n",
        "f = sp.cos(a*t)\n",
        "#3. Compute Laplace Transform\n",
        "F_s = sp.laplace_transform(f, t, s, nonconds=True)\n",
        "#4. Print the symbolic results\n",
        "print (\"Given Function: \")\n",
        "display(Math('f(t)=' + sp.latex(f)))\n",
        "print (\"Laplace Transform: \")\n",
        "display(Math('\\\\bar{f}(s)=' + sp.latex(F_s)))"
      ],
      "metadata": {
        "colab": {
          "base_uri": "https://localhost:8080/",
          "height": 114
        },
        "id": "BlWcyJ9QyUEK",
        "outputId": "bb5a7cc6-dc53-4720-ad90-93a49f5592cf"
      },
      "execution_count": null,
      "outputs": [
        {
          "output_type": "stream",
          "name": "stdout",
          "text": [
            "Given Function: \n"
          ]
        },
        {
          "output_type": "display_data",
          "data": {
            "text/plain": [
              "<IPython.core.display.Math object>"
            ],
            "text/latex": "$\\displaystyle f(t)=\\cos{\\left(a t \\right)}$"
          },
          "metadata": {}
        },
        {
          "output_type": "stream",
          "name": "stdout",
          "text": [
            "Laplace Transform: \n"
          ]
        },
        {
          "output_type": "display_data",
          "data": {
            "text/plain": [
              "<IPython.core.display.Math object>"
            ],
            "text/latex": "$\\displaystyle \\bar{f}(s)=\\left( \\frac{s}{a^{2} + s^{2}}, \\  0, \\  \\text{True}\\right)$"
          },
          "metadata": {}
        }
      ]
    },
    {
      "cell_type": "markdown",
      "source": [
        " > Find  $\\mathcal{L}cosh(at)$."
      ],
      "metadata": {
        "id": "gCa9phs80hLu"
      }
    },
    {
      "cell_type": "code",
      "source": [
        "# 1. Define symbols\n",
        "t, s, a, b = sp.symbols('t s a b', real=True, positive=True)\n",
        "\n",
        "# 2. Define the function\n",
        "f = sp.cosh(a*t)\n",
        "#3. Compute Laplace Transform\n",
        "F_s = sp.laplace_transform(f, t, s, nonconds=True)\n",
        "#4. Print the symbolic results\n",
        "print (\"Given Function: \")\n",
        "display(Math('f(t)=' + sp.latex(f)))\n",
        "print (\"Laplace Transform: \")\n",
        "display(Math('\\\\bar{f}(s)=' + sp.latex(F_s)))"
      ],
      "metadata": {
        "colab": {
          "base_uri": "https://localhost:8080/",
          "height": 114
        },
        "id": "WR7QETVwyZci",
        "outputId": "2a489912-1b4e-4a6d-ddd2-02704ec6581f"
      },
      "execution_count": null,
      "outputs": [
        {
          "output_type": "stream",
          "name": "stdout",
          "text": [
            "Given Function: \n"
          ]
        },
        {
          "output_type": "display_data",
          "data": {
            "text/plain": [
              "<IPython.core.display.Math object>"
            ],
            "text/latex": "$\\displaystyle f(t)=\\cosh{\\left(a t \\right)}$"
          },
          "metadata": {}
        },
        {
          "output_type": "stream",
          "name": "stdout",
          "text": [
            "Laplace Transform: \n"
          ]
        },
        {
          "output_type": "display_data",
          "data": {
            "text/plain": [
              "<IPython.core.display.Math object>"
            ],
            "text/latex": "$\\displaystyle \\bar{f}(s)=\\left( \\frac{s}{- a^{2} + s^{2}}, \\  a, \\  \\text{True}\\right)$"
          },
          "metadata": {}
        }
      ]
    },
    {
      "cell_type": "markdown",
      "source": [
        "> Find $\\mathcal{L}e^{-at}\\left(\\sin2t- \\cos t\\right)$\n"
      ],
      "metadata": {
        "id": "8rKnFOxf3jcM"
      }
    },
    {
      "cell_type": "code",
      "source": [
        "# 1. Define symbols\n",
        "t, s, a, b = sp.symbols('t s a b', real=True, positive=True)\n",
        "\n",
        "# 2. Define the function\n",
        "f = sp.exp(-a*t)*(sp.sin(2*t)-sp.cos(t))\n",
        "#3. Compute Laplace Transform\n",
        "F_s = sp.laplace_transform(f, t, s, nonconds=True)\n",
        "#4. Print the symbolic results\n",
        "print (\"Given Function: \")\n",
        "display(Math('f(t)=' + sp.latex(f)))\n",
        "print (\"Laplace Transform: \")\n",
        "display(Math('\\\\bar{f}(s)=' + sp.latex(F_s)))"
      ],
      "metadata": {
        "colab": {
          "base_uri": "https://localhost:8080/",
          "height": 124
        },
        "outputId": "f5d32dca-7e14-4bc2-eee7-59f342b59e44",
        "id": "BINY9_js3nR6"
      },
      "execution_count": null,
      "outputs": [
        {
          "output_type": "stream",
          "name": "stdout",
          "text": [
            "Given Function: \n"
          ]
        },
        {
          "output_type": "display_data",
          "data": {
            "text/plain": [
              "<IPython.core.display.Math object>"
            ],
            "text/latex": "$\\displaystyle f(t)=\\left(\\sin{\\left(2 t \\right)} - \\cos{\\left(t \\right)}\\right) e^{- a t}$"
          },
          "metadata": {}
        },
        {
          "output_type": "stream",
          "name": "stdout",
          "text": [
            "Laplace Transform: \n"
          ]
        },
        {
          "output_type": "display_data",
          "data": {
            "text/plain": [
              "<IPython.core.display.Math object>"
            ],
            "text/latex": "$\\displaystyle \\bar{f}(s)=\\left( - \\frac{a + s}{\\left(a + s\\right)^{2} + 1} + \\frac{2}{\\left(a + s\\right)^{2} + 4}, \\  - a, \\  \\text{True}\\right)$"
          },
          "metadata": {}
        }
      ]
    },
    {
      "cell_type": "markdown",
      "source": [
        "##Case Study: An RC Low-Pass Filter’s Impulse Response\n",
        "**Problem**: The voltage response of a simple RC low-pass filter to a sharp input (an impulse) is an exponential decay function, $f(t) = e^{-at}$\n",
        ", where $a = 1/RC$\n",
        ". Let’s analyze this signal for $a=1$\n",
        ".\n",
        "\n",
        "**Physical Interpretatio**n: * **Magnitude** ` |F(jω)|`: Tells us how much the filter will pass or block a sine wave of frequency $\\omega$\n",
        ". * **Phase** ` arg(F(jω))`: Tells us how much the filter will delay a sine wave of frequency $\\omega$\n",
        "."
      ],
      "metadata": {
        "id": "BenoPL7v1yY1"
      }
    },
    {
      "cell_type": "code",
      "source": [
        "import sympy as sp\n",
        "import numpy as np\n",
        "import matplotlib.pyplot as plt\n",
        "\n",
        "# --- 1. Define symbols ---\n",
        "t, s, w = sp.symbols('t s w', real=True, positive=True)\n",
        "a = sp.Symbol('a', real=True, positive=True)\n",
        "\n",
        "# --- 2. Define the function ---\n",
        "f = sp.exp(-a*t)\n",
        "\n",
        "# --- 3. Compute Laplace Transform ---\n",
        "F_s = sp.laplace_transform(f, t, s, noconds=True)\n",
        "\n",
        "# --- Set parameter for our specific case ---\n",
        "f_case = f.subs(a, 1)\n",
        "F_s_case = F_s.subs(a, 1)\n",
        "\n",
        "# --- 4. Derive Frequency Response ---\n",
        "F_jw = F_s_case.subs(s, 1j * w)\n",
        "\n",
        "# --- Print the symbolic results ---\n",
        "print(f\"Function: f(t) = {f_case}\")\n",
        "print(f\"Laplace Transform: F(s) = {F_s_case}\")\n",
        "print(f\"Frequency Response: F(jω) = {F_jw}\")\n",
        "\n",
        "# --- 5. Lambdify for numerical evaluation ---\n",
        "f_func = sp.lambdify(t, f_case, 'numpy')\n",
        "F_jw_func = sp.lambdify(w, F_jw, 'numpy')\n",
        "\n",
        "# --- 6. & 7. Generate Data and Calculate Mag/Phase ---\n",
        "t_values = np.linspace(0, 5, 400)\n",
        "f_values = f_func(t_values)\n",
        "\n",
        "w_values = np.logspace(-1, 2, 400) # From 0.1 to 100 rad/s\n",
        "F_jw_values = F_jw_func(w_values)\n",
        "\n",
        "magnitude = np.abs(F_jw_values)\n",
        "phase = np.angle(F_jw_values, deg=True)\n",
        "\n",
        "# --- 8. Plotting ---\n",
        "plt.figure(figsize=(10, 8))\n",
        "\n",
        "# Plot f(t)\n",
        "plt.subplot(3, 1, 1)\n",
        "plt.plot(t_values, f_values, color='blue')\n",
        "plt.title('Time Domain: $f(t) = e^{-t}$ (Impulse Response of RC Filter)')\n",
        "plt.xlabel('Time (t)')\n",
        "plt.ylabel('Amplitude')\n",
        "plt.grid(True)\n",
        "\n",
        "# Plot Magnitude |F(jω)|\n",
        "plt.subplot(3, 1, 2)\n",
        "plt.loglog(w_values, magnitude, color='red')\n",
        "plt.title('Frequency Response: Magnitude Plot')\n",
        "plt.xlabel('Frequency (ω) [rad/s]')\n",
        "plt.ylabel('|F(jω)| (Gain)')\n",
        "plt.grid(True, which=\"both\", ls=\"-\")\n",
        "\n",
        "# Plot Phase arg(F(jω))\n",
        "plt.subplot(3, 1, 3)\n",
        "plt.semilogx(w_values, phase, color='purple')\n",
        "plt.title('Frequency Response: Phase Plot')\n",
        "plt.xlabel('Frequency (ω) [rad/s]')\n",
        "plt.ylabel('Phase (degrees)')\n",
        "plt.grid(True, which=\"both\", ls=\"-\")\n",
        "\n",
        "plt.tight_layout()\n",
        "plt.show()"
      ],
      "metadata": {
        "colab": {
          "base_uri": "https://localhost:8080/",
          "height": 859
        },
        "id": "JiQJMbEA2orE",
        "outputId": "a74406a7-a40c-4458-badb-0c16ef91beb8"
      },
      "execution_count": null,
      "outputs": [
        {
          "output_type": "stream",
          "name": "stdout",
          "text": [
            "Function: f(t) = exp(-5*t)\n",
            "Laplace Transform: F(s) = 1/(s + 5)\n",
            "Frequency Response: F(jω) = 1/(1.0*I*w + 5)\n"
          ]
        },
        {
          "output_type": "display_data",
          "data": {
            "text/plain": [
              "<Figure size 1000x800 with 3 Axes>"
            ],
            "image/png": "[encoded data removed]"
          },
          "metadata": {}
        }
      ]
    },
    {
      "cell_type": "markdown",
      "source": [
        "##**Results and Discussion**\n",
        "  * Time Domain: The function $e^{-t}$\n",
        " shows a sharp start at 1, followed by a slow decay.\n",
        "\n",
        "  * Magnitude Plot: This plot clearly shows the behavior of a low-pass filter. At low frequencies (e.g., $\\omega<1$\n",
        "), the magnitude (gain) is close to 1, meaning these signals are passed through without attenuation. As frequency increases, the magnitude rolls off, indicating that high-frequency signals are blocked. The “corner frequency” where the roll-off begins is at $\\omega=1/a=1$\n",
        " rad/s.\n",
        "\n",
        "  * Phase Plot: At very low frequencies, the phase shift is near 0 degrees. As the frequency approaches the corner frequency, the phase lag increases, reaching -45 degrees at $\\omega=1$\n",
        " rad/s. At very high frequencies, the phase shift approaches -90 degrees, meaning a high-frequency sine wave passing through this filter will be delayed by a quarter of its cycle. This delay is a fundamental property of physical systems like filters."
      ],
      "metadata": {
        "id": "9N3M5Ppg4cYb"
      }
    }
  ]
}